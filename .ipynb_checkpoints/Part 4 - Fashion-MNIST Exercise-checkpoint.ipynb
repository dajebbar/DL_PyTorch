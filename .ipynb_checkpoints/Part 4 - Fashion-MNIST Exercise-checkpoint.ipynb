{
 "cells": [
  {
   "cell_type": "markdown",
   "metadata": {},
   "source": [
    "# Classifying Fashion-MNIST\n",
    "\n",
    "[Fashion-MNIST dataset](https://github.com/zalandoresearch/fashion-mnist), a drop-in replacement for the MNIST dataset.Fashion-MNIST is a set of 28x28 greyscale images of clothes.\n",
    "\n",
    "<img src='assets/fashion-mnist-sprite.png' width=500px>\n",
    "\n",
    "### Build a neural network.\n",
    "\n",
    "Let's load the dataset through torchvision."
   ]
  },
  {
   "cell_type": "code",
   "execution_count": 1,
   "metadata": {},
   "outputs": [],
   "source": [
    "import numpy as np\n",
    "import matplotlib.pyplot as plt\n",
    "\n",
    "import torch\n",
    "import torch.nn.functional as F\n",
    "\n",
    "from torch import nn \n",
    "from torchvision import datasets, transforms\n",
    "from torch.utils.data import DataLoader\n",
    "\n",
    "import helper\n",
    "\n",
    "plt.style.use('fivethirtyeight')\n",
    "\n",
    "%matplotlib inline"
   ]
  },
  {
   "cell_type": "code",
   "execution_count": 2,
   "metadata": {},
   "outputs": [],
   "source": [
    "transform = transforms.Compose([transforms.ToTensor(),\n",
    "                               transforms.Normalize((0.5,), (0.5,))])\n",
    "\n",
    "trainset = datasets.FashionMNIST(root='FMNIST_data/', download=True, train=True, transform=transform)\n",
    "trainloader = DataLoader(trainset, batch_size=128, shuffle=True)"
   ]
  },
  {
   "cell_type": "code",
   "execution_count": 3,
   "metadata": {},
   "outputs": [
    {
     "data": {
      "text/plain": [
       "<matplotlib.image.AxesImage at 0x7f1a94096970>"
      ]
     },
     "execution_count": 3,
     "metadata": {},
     "output_type": "execute_result"
    },
    {
     "data": {
      "image/png": "[encoded data removed]",
      "text/plain": [
       "<Figure size 432x288 with 1 Axes>"
      ]
     },
     "metadata": {
      "needs_background": "light"
     },
     "output_type": "display_data"
    }
   ],
   "source": [
    "images, labels = next(iter(trainloader))\n",
    "\n",
    "plt.imshow(images[2].numpy().squeeze(), cmap='Greys_r')"
   ]
  },
  {
   "cell_type": "markdown",
   "metadata": {},
   "source": [
    "## Building the network\n",
    "\n",
    "Since we have 10 classes: \\['T-shirt/top','Trouser','Pullover','Dress','Coat','Sandal','Shirt','Sneaker',\n",
    "'Bag','Ankle Boot'\\], the output is 10. The size of images is 28 * 28. I will add 2 hidden layers 128, 64"
   ]
  },
  {
   "cell_type": "code",
   "execution_count": 4,
   "metadata": {},
   "outputs": [
    {
     "name": "stdout",
     "output_type": "stream",
     "text": [
      "Sequential(\n",
      "  (fc1): Linear(in_features=784, out_features=128, bias=True)\n",
      "  (relu1): ReLU()\n",
      "  (fc2): Linear(in_features=128, out_features=64, bias=True)\n",
      "  (relu2): ReLU()\n",
      "  (logits): Linear(in_features=64, out_features=10, bias=True)\n",
      ")\n"
     ]
    }
   ],
   "source": [
    "from collections import OrderedDict\n",
    "\n",
    "input_size = 28*28\n",
    "hidden_size = [128, 64]\n",
    "output_size = 10\n",
    "\n",
    "model = nn.Sequential(OrderedDict([\n",
    "    ('fc1', nn.Linear(input_size, hidden_size[0])),\n",
    "    ('relu1', nn.ReLU()),\n",
    "    ('fc2', nn.Linear(hidden_size[0], hidden_size[1])),\n",
    "    ('relu2', nn.ReLU()),\n",
    "    ('logits', nn.Linear(hidden_size[1], output_size))\n",
    "]))\n",
    "\n",
    "print(model)"
   ]
  },
  {
   "cell_type": "markdown",
   "metadata": {},
   "source": [
    "# Train the network"
   ]
  },
  {
   "cell_type": "code",
   "execution_count": 5,
   "metadata": {},
   "outputs": [],
   "source": [
    "from torch import optim\n",
    "\n",
    "criterion = nn.CrossEntropyLoss()\n",
    "optimizer = optim.SGD(model.parameters(), lr=0.01)"
   ]
  },
  {
   "cell_type": "code",
   "execution_count": 6,
   "metadata": {},
   "outputs": [
    {
     "name": "stdout",
     "output_type": "stream",
     "text": [
      "Epoch: 1/15... Loss:  2.2515\n",
      "Epoch: 1/15... Loss:  2.1244\n",
      "Epoch: 1/15... Loss:  1.9298\n",
      "Epoch: 1/15... Loss:  1.6773\n",
      "Epoch: 1/15... Loss:  1.4345\n",
      "Epoch: 1/15... Loss:  1.2456\n",
      "Epoch: 1/15... Loss:  1.1070\n",
      "Epoch: 1/15... Loss:  0.9904\n",
      "Epoch: 1/15... Loss:  0.9132\n",
      "Epoch: 1/15... Loss:  0.8810\n",
      "Epoch: 1/15... Loss:  0.8438\n",
      "Epoch: 2/15... Loss:  0.2106\n",
      "Epoch: 2/15... Loss:  0.7478\n",
      "Epoch: 2/15... Loss:  0.7261\n",
      "Epoch: 2/15... Loss:  0.6985\n",
      "Epoch: 2/15... Loss:  0.6912\n",
      "Epoch: 2/15... Loss:  0.6901\n",
      "Epoch: 2/15... Loss:  0.6825\n",
      "Epoch: 2/15... Loss:  0.6746\n",
      "Epoch: 2/15... Loss:  0.6436\n",
      "Epoch: 2/15... Loss:  0.6347\n",
      "Epoch: 2/15... Loss:  0.6311\n",
      "Epoch: 2/15... Loss:  0.6178\n",
      "Epoch: 3/15... Loss:  0.3536\n",
      "Epoch: 3/15... Loss:  0.6102\n",
      "Epoch: 3/15... Loss:  0.5989\n",
      "Epoch: 3/15... Loss:  0.6107\n",
      "Epoch: 3/15... Loss:  0.5821\n",
      "Epoch: 3/15... Loss:  0.5743\n",
      "Epoch: 3/15... Loss:  0.5577\n",
      "Epoch: 3/15... Loss:  0.5777\n",
      "Epoch: 3/15... Loss:  0.5705\n",
      "Epoch: 3/15... Loss:  0.5434\n",
      "Epoch: 3/15... Loss:  0.5486\n",
      "Epoch: 3/15... Loss:  0.5605\n",
      "Epoch: 4/15... Loss:  0.4443\n",
      "Epoch: 4/15... Loss:  0.5541\n",
      "Epoch: 4/15... Loss:  0.5327\n",
      "Epoch: 4/15... Loss:  0.5270\n",
      "Epoch: 4/15... Loss:  0.5548\n",
      "Epoch: 4/15... Loss:  0.5393\n",
      "Epoch: 4/15... Loss:  0.5169\n",
      "Epoch: 4/15... Loss:  0.5272\n",
      "Epoch: 4/15... Loss:  0.5369\n",
      "Epoch: 4/15... Loss:  0.5007\n",
      "Epoch: 4/15... Loss:  0.5142\n",
      "Epoch: 5/15... Loss:  0.0520\n",
      "Epoch: 5/15... Loss:  0.5117\n",
      "Epoch: 5/15... Loss:  0.5078\n",
      "Epoch: 5/15... Loss:  0.5222\n",
      "Epoch: 5/15... Loss:  0.5064\n",
      "Epoch: 5/15... Loss:  0.4972\n",
      "Epoch: 5/15... Loss:  0.4933\n",
      "Epoch: 5/15... Loss:  0.4662\n",
      "Epoch: 5/15... Loss:  0.4977\n",
      "Epoch: 5/15... Loss:  0.5045\n",
      "Epoch: 5/15... Loss:  0.4813\n",
      "Epoch: 5/15... Loss:  0.5050\n",
      "Epoch: 6/15... Loss:  0.1719\n",
      "Epoch: 6/15... Loss:  0.5000\n",
      "Epoch: 6/15... Loss:  0.4749\n",
      "Epoch: 6/15... Loss:  0.4660\n",
      "Epoch: 6/15... Loss:  0.4665\n",
      "Epoch: 6/15... Loss:  0.4943\n",
      "Epoch: 6/15... Loss:  0.4952\n",
      "Epoch: 6/15... Loss:  0.4807\n",
      "Epoch: 6/15... Loss:  0.5006\n",
      "Epoch: 6/15... Loss:  0.4691\n",
      "Epoch: 6/15... Loss:  0.4549\n",
      "Epoch: 6/15... Loss:  0.4689\n",
      "Epoch: 7/15... Loss:  0.3185\n",
      "Epoch: 7/15... Loss:  0.4799\n",
      "Epoch: 7/15... Loss:  0.4534\n",
      "Epoch: 7/15... Loss:  0.4739\n",
      "Epoch: 7/15... Loss:  0.4529\n",
      "Epoch: 7/15... Loss:  0.4631\n",
      "Epoch: 7/15... Loss:  0.4446\n",
      "Epoch: 7/15... Loss:  0.4700\n",
      "Epoch: 7/15... Loss:  0.4576\n",
      "Epoch: 7/15... Loss:  0.4636\n",
      "Epoch: 7/15... Loss:  0.4615\n",
      "Epoch: 7/15... Loss:  0.4290\n",
      "Epoch: 8/15... Loss:  0.4209\n",
      "Epoch: 8/15... Loss:  0.4452\n",
      "Epoch: 8/15... Loss:  0.4548\n",
      "Epoch: 8/15... Loss:  0.4392\n",
      "Epoch: 8/15... Loss:  0.4535\n",
      "Epoch: 8/15... Loss:  0.4641\n",
      "Epoch: 8/15... Loss:  0.4349\n",
      "Epoch: 8/15... Loss:  0.4555\n",
      "Epoch: 8/15... Loss:  0.4380\n",
      "Epoch: 8/15... Loss:  0.4457\n",
      "Epoch: 8/15... Loss:  0.4254\n",
      "Epoch: 9/15... Loss:  0.0788\n",
      "Epoch: 9/15... Loss:  0.4255\n",
      "Epoch: 9/15... Loss:  0.4489\n",
      "Epoch: 9/15... Loss:  0.4472\n",
      "Epoch: 9/15... Loss:  0.4358\n",
      "Epoch: 9/15... Loss:  0.4366\n",
      "Epoch: 9/15... Loss:  0.4384\n",
      "Epoch: 9/15... Loss:  0.4248\n",
      "Epoch: 9/15... Loss:  0.4302\n",
      "Epoch: 9/15... Loss:  0.4401\n",
      "Epoch: 9/15... Loss:  0.4120\n",
      "Epoch: 9/15... Loss:  0.4397\n",
      "Epoch: 10/15... Loss:  0.2067\n",
      "Epoch: 10/15... Loss:  0.4366\n",
      "Epoch: 10/15... Loss:  0.4310\n",
      "Epoch: 10/15... Loss:  0.4217\n",
      "Epoch: 10/15... Loss:  0.4291\n",
      "Epoch: 10/15... Loss:  0.4156\n",
      "Epoch: 10/15... Loss:  0.4156\n",
      "Epoch: 10/15... Loss:  0.4387\n",
      "Epoch: 10/15... Loss:  0.4256\n",
      "Epoch: 10/15... Loss:  0.4214\n",
      "Epoch: 10/15... Loss:  0.4281\n",
      "Epoch: 10/15... Loss:  0.4132\n",
      "Epoch: 11/15... Loss:  0.3063\n",
      "Epoch: 11/15... Loss:  0.4181\n",
      "Epoch: 11/15... Loss:  0.4264\n",
      "Epoch: 11/15... Loss:  0.4200\n",
      "Epoch: 11/15... Loss:  0.4129\n",
      "Epoch: 11/15... Loss:  0.4205\n",
      "Epoch: 11/15... Loss:  0.4004\n",
      "Epoch: 11/15... Loss:  0.4364\n",
      "Epoch: 11/15... Loss:  0.4126\n",
      "Epoch: 11/15... Loss:  0.4126\n",
      "Epoch: 11/15... Loss:  0.4224\n",
      "Epoch: 12/15... Loss:  0.0102\n",
      "Epoch: 12/15... Loss:  0.4148\n",
      "Epoch: 12/15... Loss:  0.4267\n",
      "Epoch: 12/15... Loss:  0.3988\n",
      "Epoch: 12/15... Loss:  0.4229\n",
      "Epoch: 12/15... Loss:  0.3963\n",
      "Epoch: 12/15... Loss:  0.4155\n",
      "Epoch: 12/15... Loss:  0.3949\n",
      "Epoch: 12/15... Loss:  0.4017\n",
      "Epoch: 12/15... Loss:  0.4044\n",
      "Epoch: 12/15... Loss:  0.4153\n",
      "Epoch: 12/15... Loss:  0.3997\n",
      "Epoch: 13/15... Loss:  0.1139\n",
      "Epoch: 13/15... Loss:  0.4108\n",
      "Epoch: 13/15... Loss:  0.3991\n",
      "Epoch: 13/15... Loss:  0.3948\n",
      "Epoch: 13/15... Loss:  0.3843\n",
      "Epoch: 13/15... Loss:  0.4052\n",
      "Epoch: 13/15... Loss:  0.3848\n",
      "Epoch: 13/15... Loss:  0.4080\n",
      "Epoch: 13/15... Loss:  0.3952\n",
      "Epoch: 13/15... Loss:  0.4123\n",
      "Epoch: 13/15... Loss:  0.4068\n",
      "Epoch: 13/15... Loss:  0.3887\n",
      "Epoch: 14/15... Loss:  0.2355\n",
      "Epoch: 14/15... Loss:  0.3892\n",
      "Epoch: 14/15... Loss:  0.3860\n",
      "Epoch: 14/15... Loss:  0.4055\n",
      "Epoch: 14/15... Loss:  0.3897\n",
      "Epoch: 14/15... Loss:  0.3888\n",
      "Epoch: 14/15... Loss:  0.4104\n",
      "Epoch: 14/15... Loss:  0.3786\n",
      "Epoch: 14/15... Loss:  0.3793\n",
      "Epoch: 14/15... Loss:  0.4001\n",
      "Epoch: 14/15... Loss:  0.3984\n",
      "Epoch: 14/15... Loss:  0.3823\n",
      "Epoch: 15/15... Loss:  0.3455\n",
      "Epoch: 15/15... Loss:  0.3738\n",
      "Epoch: 15/15... Loss:  0.3873\n",
      "Epoch: 15/15... Loss:  0.3693\n",
      "Epoch: 15/15... Loss:  0.3883\n",
      "Epoch: 15/15... Loss:  0.3908\n",
      "Epoch: 15/15... Loss:  0.3878\n",
      "Epoch: 15/15... Loss:  0.3780\n",
      "Epoch: 15/15... Loss:  0.3915\n",
      "Epoch: 15/15... Loss:  0.3907\n",
      "Epoch: 15/15... Loss:  0.4008\n"
     ]
    }
   ],
   "source": [
    "epochs = 15\n",
    "print_every = 40\n",
    "steps = 0\n",
    "\n",
    "for epoch in range(epochs):\n",
    "    running_loss = 0\n",
    "    for images, labels in iter(trainloader):\n",
    "        steps +=1\n",
    "        \n",
    "        # flatten the fachion-MNIST images into vect 1-D 784\n",
    "        images.resize_(images.shape[0], 28*28)\n",
    "        \n",
    "        # empty gradient\n",
    "        optimizer.zero_grad()\n",
    "        \n",
    "        # forward and backward passes\n",
    "        output = model.forward(images)\n",
    "        loss = criterion(output, labels)\n",
    "        loss.backward()\n",
    "        optimizer.step()\n",
    "        \n",
    "        running_loss += loss.item()\n",
    "        \n",
    "        if steps % print_every == 0:\n",
    "            print(f\"Epoch: {epoch+1}/{epochs}...\",\n",
    "                 f\"Loss: {running_loss/print_every: .4f}\")\n",
    "            \n",
    "            running_loss = 0"
   ]
  },
  {
   "cell_type": "markdown",
   "metadata": {},
   "source": [
    "# Show predictions"
   ]
  },
  {
   "cell_type": "code",
   "execution_count": 7,
   "metadata": {},
   "outputs": [
    {
     "data": {
      "image/png": "[encoded data removed]",
      "text/plain": [
       "<Figure size 432x648 with 2 Axes>"
      ]
     },
     "metadata": {
      "needs_background": "light"
     },
     "output_type": "display_data"
    },
    {
     "data": {
      "image/png": "[encoded data removed]",
      "text/plain": [
       "<Figure size 432x648 with 2 Axes>"
      ]
     },
     "metadata": {
      "needs_background": "light"
     },
     "output_type": "display_data"
    },
    {
     "data": {
      "image/png": "[encoded data removed]",
      "text/plain": [
       "<Figure size 432x648 with 2 Axes>"
      ]
     },
     "metadata": {
      "needs_background": "light"
     },
     "output_type": "display_data"
    },
    {
     "data": {
      "image/png": "[encoded data removed]",
      "text/plain": [
       "<Figure size 432x648 with 2 Axes>"
      ]
     },
     "metadata": {
      "needs_background": "light"
     },
     "output_type": "display_data"
    },
    {
     "data": {
      "image/png": "[encoded data removed]",
      "text/plain": [
       "<Figure size 432x648 with 2 Axes>"
      ]
     },
     "metadata": {
      "needs_background": "light"
     },
     "output_type": "display_data"
    }
   ],
   "source": [
    "images, labels = next(iter(trainloader))\n",
    "\n",
    "for i in range(5):\n",
    "    img = images[i].view(1, 784)\n",
    "    # Turn off gradients to speed up this part\n",
    "    with torch.no_grad():\n",
    "        logits = model.forward(img)\n",
    "\n",
    "    # Output of the network are logits, need to take softmax for probabilities\n",
    "    ps = F.softmax(logits, dim=1)\n",
    "    helper.view_classify(img.view(1, 28, 28), ps, version='Fashion')"
   ]
  }
 ],
 "metadata": {
  "hide_input": false,
  "kernelspec": {
   "display_name": "Python 3",
   "language": "python",
   "name": "python3"
  },
  "language_info": {
   "codemirror_mode": {
    "name": "ipython",
    "version": 3
   },
   "file_extension": ".py",
   "mimetype": "text/x-python",
   "name": "python",
   "nbconvert_exporter": "python",
   "pygments_lexer": "ipython3",
   "version": "3.8.3"
  }
 },
 "nbformat": 4,
 "nbformat_minor": 4
}
