{
 "cells": [
  {
   "cell_type": "markdown",
   "metadata": {},
   "source": [
    "# Neural networks with PyTorch"
   ]
  },
  {
   "cell_type": "code",
   "execution_count": 1,
   "metadata": {},
   "outputs": [],
   "source": [
    "import numpy as np\n",
    "import matplotlib.pyplot as plt\n",
    "\n",
    "import helper\n",
    "\n",
    "import torch\n",
    "\n",
    "from torchvision import datasets, transforms\n",
    "from torch.utils.data import DataLoader\n",
    "\n",
    "plt.style.use('fivethirtyeight')\n",
    "\n",
    "%matplotlib inline\n",
    "%config InlineBackend.figure_format = 'retina'"
   ]
  },
  {
   "cell_type": "markdown",
   "metadata": {},
   "source": [
    "First up, we need to get our dataset. This is provided through the `torchvision` package. The code below will download the MNIST dataset, then create training and test datasets for us."
   ]
  },
  {
   "cell_type": "code",
   "execution_count": 2,
   "metadata": {},
   "outputs": [],
   "source": [
    "# Define a transform to normalize the data\n",
    "transform = transforms.Compose([transforms.ToTensor(),\n",
    "                              transforms.Normalize((0.5,), (0.5,)),\n",
    "                             ])\n",
    "# Download and load the training data\n",
    "trainset = datasets.MNIST('MNIST_data/', download=True, train=True, transform=transform)\n",
    "trainloader = torch.utils.data.DataLoader(trainset, batch_size=64, shuffle=True)\n",
    "\n",
    "# Download and load the test data\n",
    "testset = datasets.MNIST('MNIST_data/', download=True, train=False, transform=transform)\n",
    "testloader = torch.utils.data.DataLoader(testset, batch_size=64, shuffle=True)"
   ]
  },
  {
   "cell_type": "code",
   "execution_count": 3,
   "metadata": {},
   "outputs": [],
   "source": [
    "dataiter = iter(trainloader)\n",
    "images, labels = dataiter.next()"
   ]
  },
  {
   "cell_type": "markdown",
   "metadata": {},
   "source": [
    "We have the training data loaded into `trainloader` and we make that an iterator with `iter(trainloader)`. We'd use this to loop through the dataset for training, but here I'm just grabbing the first batch so we can check out the data. We can see below that `images` is just a tensor with size (64, 1, 28, 28). So, 64 images per batch, 1 color channel, and 28x28 images."
   ]
  },
  {
   "cell_type": "code",
   "execution_count": 4,
   "metadata": {},
   "outputs": [
    {
     "data": {
      "text/plain": [
       "<matplotlib.image.AxesImage at 0x7fccb0366730>"
      ]
     },
     "execution_count": 4,
     "metadata": {},
     "output_type": "execute_result"
    },
    {
     "data": {
      "image/png": "[encoded data removed]",
      "text/plain": [
       "<Figure size 432x288 with 1 Axes>"
      ]
     },
     "metadata": {
      "image/png": {
       "height": 244,
       "width": 248
      },
      "needs_background": "light"
     },
     "output_type": "display_data"
    }
   ],
   "source": [
    "plt.imshow(images[0].numpy().squeeze(), cmap='Greys_r')"
   ]
  },
  {
   "cell_type": "markdown",
   "metadata": {},
   "source": [
    "## Building networks with PyTorch\n",
    "\n",
    "Here I'll use PyTorch to build a simple feedfoward network to classify the MNIST images. That is, the network will receive a digit image as input and predict the digit in the image.\n",
    "\n",
    "<img src=\"assets/mlp_mnist.png\" width=600px>\n",
    "\n",
    "To build a neural network with PyTorch, you use the `torch.nn` module. The network itself is a class inheriting from `torch.nn.Module`. You define each of the operations separately, like `nn.Linear(784, 128)` for a fully connected linear layer with 784 inputs and 128 units.\n",
    "\n",
    "The class needs to include a `forward` method that implements the forward pass through the network. In this method, you pass some input tensor `x` through each of the operations you defined earlier. The `torch.nn` module also has functional equivalents for things like ReLUs in `torch.nn.functional`. This module is usually imported as `F`. Then to use a ReLU activation on some layer (which is just a tensor), you'd do `F.relu(x)`. Below are a few different commonly used activation functions.\n",
    "\n",
    "<img src=\"assets/activation.png\" width=700px>\n",
    "\n",
    "So, for this network, I'll build it with three fully connected layers, then a softmax output for predicting classes. The softmax function is similar to the sigmoid in that it squashes inputs between 0 and 1, but it's also normalized so that all the values sum to one like a proper probability distribution."
   ]
  },
  {
   "cell_type": "code",
   "execution_count": 5,
   "metadata": {},
   "outputs": [],
   "source": [
    "import torch.nn.functional as F\n",
    "\n",
    "from torch import nn\n",
    "from torch import optim"
   ]
  },
  {
   "cell_type": "code",
   "execution_count": 6,
   "metadata": {},
   "outputs": [
    {
     "data": {
      "text/plain": [
       "MnistNetwork(\n",
       "  (fc1): Linear(in_features=784, out_features=128, bias=True)\n",
       "  (fc2): Linear(in_features=128, out_features=64, bias=True)\n",
       "  (fc3): Linear(in_features=64, out_features=10, bias=True)\n",
       ")"
      ]
     },
     "execution_count": 6,
     "metadata": {},
     "output_type": "execute_result"
    }
   ],
   "source": [
    "class MnistNetwork(nn.Module):\n",
    "    def __init__(self):\n",
    "        super().__init__()\n",
    "        \n",
    "        # Defining the fully connected layers (fc), 128, 64, 10 units each\n",
    "        self.fc1 = nn.Linear(28*28, 128)\n",
    "        self.fc2 = nn.Linear(128, 64)\n",
    "        # Output layer, 10 units - one for each digit\n",
    "        self.fc3 = nn.Linear(64, 10)\n",
    "    \n",
    "    def forward(self, x):\n",
    "        ''' Forward pass through the network, returns the output logits  '''\n",
    "        \n",
    "        x = self.fc1(x)\n",
    "        x = F.relu(x)\n",
    "        \n",
    "        x = self.fc2(x)\n",
    "        x = F.relu(x)\n",
    "        \n",
    "        x = self.fc3(x)\n",
    "        x = F.softmax(x, dim=1)\n",
    "        \n",
    "        return x\n",
    "\n",
    "model = MnistNetwork()\n",
    "\n",
    "model\n",
    "        "
   ]
  },
  {
   "cell_type": "markdown",
   "metadata": {},
   "source": [
    "### Initializing weights and biases\n",
    "\n",
    "The weights and such are automatically initialized for you, but it's possible to customize how they are initialized. The weights and biases are tensors attached to the layer you defined, you can get them with `model.fc1.weight` for instance."
   ]
  },
  {
   "cell_type": "code",
   "execution_count": 7,
   "metadata": {},
   "outputs": [
    {
     "name": "stdout",
     "output_type": "stream",
     "text": [
      "[Parameter containing:\n",
      "tensor([[-0.0253, -0.0121,  0.0005,  ...,  0.0079, -0.0281,  0.0339],\n",
      "        [ 0.0214,  0.0211, -0.0044,  ...,  0.0058, -0.0267,  0.0037],\n",
      "        [-0.0279,  0.0055,  0.0105,  ..., -0.0151,  0.0203,  0.0088],\n",
      "        ...,\n",
      "        [-0.0199, -0.0340, -0.0026,  ...,  0.0170,  0.0217, -0.0270],\n",
      "        [-0.0207,  0.0254,  0.0324,  ..., -0.0317,  0.0030, -0.0162],\n",
      "        [ 0.0261, -0.0287, -0.0176,  ...,  0.0039,  0.0080, -0.0099]],\n",
      "       requires_grad=True), Parameter containing:\n",
      "tensor([-0.0316,  0.0267,  0.0144,  0.0004,  0.0277,  0.0318, -0.0338, -0.0060,\n",
      "        -0.0329, -0.0194, -0.0025, -0.0127,  0.0094, -0.0351, -0.0095,  0.0012,\n",
      "        -0.0275, -0.0239, -0.0222,  0.0090, -0.0182,  0.0299, -0.0149, -0.0245,\n",
      "        -0.0035, -0.0006, -0.0350,  0.0116, -0.0103, -0.0181,  0.0257, -0.0141,\n",
      "        -0.0165, -0.0144,  0.0345,  0.0088, -0.0134,  0.0198,  0.0215, -0.0251,\n",
      "         0.0251, -0.0057,  0.0033, -0.0226, -0.0263, -0.0305,  0.0240, -0.0278,\n",
      "         0.0343,  0.0267,  0.0208,  0.0152,  0.0185, -0.0280, -0.0254, -0.0008,\n",
      "         0.0310,  0.0101,  0.0207,  0.0312,  0.0195, -0.0352,  0.0069, -0.0035,\n",
      "        -0.0051, -0.0043, -0.0036, -0.0145, -0.0213, -0.0124,  0.0250, -0.0152,\n",
      "        -0.0210, -0.0300, -0.0197, -0.0088,  0.0286, -0.0330, -0.0124, -0.0329,\n",
      "         0.0175,  0.0143,  0.0250, -0.0253, -0.0265, -0.0034,  0.0093, -0.0217,\n",
      "         0.0151, -0.0295, -0.0308,  0.0291,  0.0348,  0.0110, -0.0096,  0.0023,\n",
      "        -0.0342,  0.0348,  0.0198, -0.0230, -0.0277, -0.0168,  0.0140, -0.0163,\n",
      "        -0.0210, -0.0072, -0.0297,  0.0323,  0.0191,  0.0299, -0.0315, -0.0284,\n",
      "         0.0140, -0.0349,  0.0102, -0.0028, -0.0169, -0.0331, -0.0146, -0.0058,\n",
      "        -0.0247, -0.0079, -0.0244, -0.0259, -0.0270,  0.0085,  0.0175, -0.0351],\n",
      "       requires_grad=True), Parameter containing:\n",
      "tensor([[ 0.0374, -0.0629,  0.0497,  ..., -0.0098, -0.0413, -0.0653],\n",
      "        [ 0.0116, -0.0818, -0.0352,  ..., -0.0127,  0.0347,  0.0254],\n",
      "        [ 0.0679, -0.0545, -0.0718,  ...,  0.0533,  0.0177, -0.0383],\n",
      "        ...,\n",
      "        [-0.0353, -0.0678,  0.0179,  ...,  0.0625,  0.0853, -0.0386],\n",
      "        [ 0.0046, -0.0783, -0.0732,  ...,  0.0211, -0.0863,  0.0665],\n",
      "        [ 0.0216, -0.0329,  0.0424,  ..., -0.0034, -0.0527,  0.0604]],\n",
      "       requires_grad=True), Parameter containing:\n",
      "tensor([ 0.0122, -0.0622,  0.0449,  0.0817,  0.0240,  0.0768, -0.0796, -0.0078,\n",
      "         0.0457, -0.0664,  0.0529, -0.0760,  0.0718, -0.0524,  0.0253,  0.0600,\n",
      "        -0.0267,  0.0529,  0.0322, -0.0646, -0.0709, -0.0362,  0.0004,  0.0198,\n",
      "        -0.0264, -0.0435,  0.0746, -0.0705,  0.0291,  0.0196,  0.0734, -0.0554,\n",
      "         0.0579, -0.0692,  0.0676, -0.0510, -0.0211, -0.0597, -0.0203,  0.0677,\n",
      "        -0.0428,  0.0055,  0.0583,  0.0819, -0.0600,  0.0742,  0.0238, -0.0169,\n",
      "        -0.0252,  0.0377,  0.0636, -0.0097,  0.0837,  0.0357,  0.0835,  0.0177,\n",
      "         0.0137,  0.0044, -0.0242,  0.0028,  0.0342, -0.0759, -0.0756, -0.0814],\n",
      "       requires_grad=True), Parameter containing:\n",
      "tensor([[-5.6858e-02, -4.9984e-02,  3.4669e-02, -4.6722e-02,  1.2262e-01,\n",
      "         -1.0048e-01,  8.5615e-02,  8.6609e-02, -6.5594e-02, -1.2480e-01,\n",
      "         -7.4180e-02, -6.9346e-02,  2.2609e-02, -8.5063e-02,  4.8456e-02,\n",
      "         -2.9439e-03,  8.3317e-02, -1.8989e-02,  4.5790e-02, -9.2520e-02,\n",
      "          6.5614e-02, -1.2064e-01,  1.7957e-02,  9.0969e-02, -5.6193e-02,\n",
      "          8.1621e-03,  8.8905e-02, -9.0551e-02,  1.4778e-02,  6.5874e-02,\n",
      "         -5.0613e-02, -1.0631e-01,  7.4522e-02, -9.8381e-02, -1.0090e-01,\n",
      "          1.3379e-02,  3.5082e-03,  1.0621e-01,  7.7176e-03, -2.5250e-02,\n",
      "         -6.1572e-03, -1.0277e-01,  8.9300e-02, -9.6695e-02,  1.1457e-01,\n",
      "          1.1161e-01,  1.5816e-02,  3.2500e-02, -5.1313e-02,  6.6574e-02,\n",
      "          3.0861e-02, -2.5056e-02,  5.2478e-02, -9.6809e-02,  2.0565e-02,\n",
      "         -6.6842e-02,  3.6375e-02, -9.9488e-02, -2.5404e-02,  8.4979e-02,\n",
      "         -3.2788e-03, -4.3989e-02,  1.8248e-02,  6.8712e-02],\n",
      "        [-7.0376e-02, -7.5600e-02,  3.4048e-02,  7.8252e-02,  9.0318e-03,\n",
      "         -1.3375e-02,  2.6716e-02,  3.8299e-02,  7.1250e-02, -1.1395e-01,\n",
      "         -6.4888e-02, -7.7169e-02,  1.1460e-01,  1.9108e-02, -4.9071e-02,\n",
      "          1.6194e-02, -5.3852e-02, -7.5713e-02, -4.3241e-02, -8.8098e-02,\n",
      "         -1.0268e-01,  7.7393e-02, -1.4542e-02, -1.1075e-01, -5.9913e-02,\n",
      "          5.5240e-03, -1.0289e-01, -6.9530e-02,  1.2345e-01,  9.9740e-02,\n",
      "         -3.8052e-02, -5.9409e-02,  6.9675e-03, -1.2235e-01,  1.0183e-01,\n",
      "         -6.9430e-02, -1.1226e-01, -2.3910e-03,  3.1944e-02, -5.3812e-02,\n",
      "         -5.9917e-02, -1.0262e-02, -1.1311e-02, -1.2013e-01,  4.3161e-02,\n",
      "         -1.2467e-01, -7.2366e-02,  6.3367e-02,  4.3512e-02,  1.0520e-01,\n",
      "         -8.1892e-02,  1.5593e-02, -3.4649e-02,  2.1746e-02, -2.2667e-02,\n",
      "         -7.3873e-03,  1.3977e-02, -4.3506e-02, -1.1645e-01, -2.2437e-02,\n",
      "          4.3877e-02, -7.3448e-02, -5.2831e-02, -9.5501e-02],\n",
      "        [ 9.3053e-02, -1.6858e-02,  5.3715e-02, -4.5588e-02,  5.0892e-02,\n",
      "         -6.8603e-02,  1.3665e-03, -8.3074e-03, -9.8325e-02, -8.4210e-02,\n",
      "          1.1969e-01, -7.9401e-02, -7.3367e-03, -3.3923e-02, -9.8041e-02,\n",
      "          2.5518e-02,  1.5455e-02,  1.1361e-01,  1.4077e-02,  1.5517e-02,\n",
      "         -9.3985e-02, -5.2656e-02, -1.0891e-01,  6.3301e-02, -4.4475e-03,\n",
      "          1.2242e-01,  3.4334e-02, -6.2852e-02, -1.1386e-01, -7.3176e-03,\n",
      "          8.0922e-02,  6.6519e-02, -4.3875e-02,  4.1536e-02, -1.6830e-02,\n",
      "         -1.0179e-01, -3.3718e-02,  8.6990e-02,  5.0492e-02,  1.1056e-01,\n",
      "         -5.5995e-02,  3.9605e-02, -7.8827e-06, -4.0901e-02, -4.7492e-02,\n",
      "         -7.1053e-02,  1.6722e-02,  9.9310e-02,  1.0673e-01, -1.8676e-02,\n",
      "         -1.0873e-01,  7.8784e-02,  1.0770e-01, -4.2532e-03, -8.5057e-02,\n",
      "          9.0799e-02,  3.4159e-02,  5.7643e-02, -5.6043e-02, -2.8356e-03,\n",
      "          2.0195e-02,  7.8205e-02,  8.8535e-02,  1.2180e-01],\n",
      "        [ 8.5803e-02,  7.0730e-03,  5.8213e-02, -1.0758e-01,  3.8570e-02,\n",
      "          6.6408e-02,  1.2252e-01, -1.0978e-01, -6.7345e-02,  1.0221e-01,\n",
      "          4.7311e-02,  9.6738e-03,  5.4419e-02, -2.2888e-02,  1.0806e-01,\n",
      "          1.0802e-01,  3.6092e-02, -4.4122e-02, -7.8904e-03,  7.6923e-02,\n",
      "          7.3140e-03, -1.1288e-02, -8.0375e-02,  1.2454e-01,  9.0590e-02,\n",
      "          1.1889e-01, -1.2151e-01, -5.3219e-02, -2.7918e-02,  7.7403e-02,\n",
      "          6.0285e-02, -1.1624e-01,  7.7815e-02, -5.8191e-02, -8.3559e-02,\n",
      "         -5.8065e-02,  8.9385e-02,  2.8243e-02, -3.3830e-02, -2.2943e-02,\n",
      "         -9.7829e-02,  1.5820e-02,  1.5742e-02, -2.7401e-02, -5.4092e-02,\n",
      "         -1.7097e-02, -2.9431e-02, -9.8860e-02, -1.7540e-02,  3.0536e-02,\n",
      "          3.5069e-02, -8.2777e-02,  1.1066e-01,  6.1727e-02,  4.5430e-02,\n",
      "         -1.2116e-01, -1.2277e-01, -3.6236e-03,  4.4102e-02,  2.7185e-02,\n",
      "         -8.7859e-03, -1.0423e-01,  7.0208e-02,  1.1567e-01],\n",
      "        [-2.7089e-02, -7.3237e-02, -9.9026e-03,  6.9309e-02, -9.6734e-02,\n",
      "          6.2024e-02,  8.7950e-02, -8.9370e-02,  8.5788e-02,  4.9747e-02,\n",
      "         -6.6914e-03,  5.2232e-02, -1.8428e-02, -1.1066e-01,  1.0478e-01,\n",
      "         -6.0604e-03, -5.5375e-02, -7.3950e-02,  2.1288e-02,  1.3402e-02,\n",
      "          3.6846e-02,  1.1278e-01, -6.1207e-02, -1.1365e-01,  2.9211e-02,\n",
      "         -4.6373e-02, -1.0921e-01,  3.9910e-02, -4.7359e-02, -1.1280e-01,\n",
      "         -7.1684e-02, -4.4764e-02, -1.0278e-01,  3.7556e-02,  1.0642e-02,\n",
      "          7.8241e-02,  1.9264e-02,  6.3480e-04, -3.9411e-02,  3.6177e-03,\n",
      "         -5.3392e-02, -4.4699e-02,  6.4168e-02,  7.1437e-02, -8.0081e-02,\n",
      "          1.0301e-01, -1.7921e-02, -5.0928e-02,  3.4702e-02,  1.5208e-02,\n",
      "          8.3435e-02, -2.4352e-02,  1.1701e-01, -1.0835e-01,  9.1529e-02,\n",
      "          6.9723e-04, -2.7610e-02,  8.4074e-03, -6.2849e-02, -5.1121e-02,\n",
      "         -6.5613e-02, -3.5343e-02,  1.0613e-01, -8.7818e-03],\n",
      "        [-7.8320e-02,  5.8520e-02, -9.3436e-02,  8.7423e-02,  3.0235e-02,\n",
      "          1.2065e-01,  3.1294e-02, -4.5503e-02,  4.6648e-02, -2.4696e-02,\n",
      "          7.4543e-02,  2.5414e-02, -4.0842e-02, -1.2233e-01,  4.8177e-02,\n",
      "          9.7279e-02,  6.3779e-02, -8.5220e-02, -8.6758e-02,  4.6905e-02,\n",
      "         -1.2149e-01, -3.4517e-02, -1.2132e-01, -3.7240e-02,  6.2968e-02,\n",
      "          1.2434e-01,  8.8240e-02,  1.0666e-01, -1.1110e-01,  4.3093e-02,\n",
      "          8.9162e-02, -2.5322e-02,  3.5215e-02,  6.0912e-02, -5.4167e-02,\n",
      "          9.5721e-03,  3.5166e-02, -6.2493e-02,  1.1347e-01, -5.2072e-02,\n",
      "         -2.7038e-02, -6.9682e-03,  4.9433e-02,  2.8611e-02,  8.6840e-02,\n",
      "          1.2279e-01,  1.9390e-03, -7.9276e-02,  1.1953e-01,  6.0462e-02,\n",
      "         -2.0457e-02,  3.1359e-02, -1.0190e-01,  6.3363e-02, -4.1734e-03,\n",
      "         -2.2371e-02, -3.0413e-02,  6.5123e-02,  9.3593e-02,  8.3848e-02,\n",
      "         -9.8994e-02, -1.0104e-01, -8.4112e-02,  1.2215e-01],\n",
      "        [-1.1305e-01,  8.8558e-02,  4.7756e-02, -1.5274e-02, -4.4629e-02,\n",
      "          7.4076e-03, -7.5908e-02, -7.4446e-02,  3.5681e-02,  3.7935e-02,\n",
      "          1.0920e-01,  1.1512e-01,  1.9406e-02,  1.1580e-01, -9.6507e-02,\n",
      "         -4.5322e-02, -5.2780e-02, -3.8363e-02,  2.6041e-02, -4.0903e-03,\n",
      "          9.6838e-02, -8.3828e-02,  4.7795e-02,  5.2807e-02,  4.7921e-02,\n",
      "         -1.1921e-01,  6.6056e-02, -3.1212e-02, -2.9251e-02, -8.2963e-02,\n",
      "         -2.7789e-02, -1.0724e-01, -9.1467e-02,  9.9354e-02,  9.2751e-02,\n",
      "         -2.1155e-02, -4.9210e-03, -8.9601e-03,  1.2421e-01,  7.3074e-02,\n",
      "         -1.0050e-01,  1.1440e-02,  2.5731e-02,  9.6565e-03,  3.8978e-02,\n",
      "          4.1157e-03, -1.1216e-01,  2.8031e-02, -8.6427e-02, -4.2407e-02,\n",
      "         -2.5411e-02, -3.9981e-02,  1.2212e-01, -1.0247e-01,  1.0027e-01,\n",
      "          1.2291e-01,  6.9487e-04,  1.0786e-01,  9.1607e-02,  5.3514e-02,\n",
      "          7.4617e-02,  5.2131e-02, -9.2295e-02,  2.8229e-03],\n",
      "        [-1.2206e-01, -6.4749e-03, -2.8195e-02,  5.8447e-02, -2.0624e-02,\n",
      "         -1.1643e-01, -1.1547e-01,  1.1954e-01, -1.2303e-01, -9.6064e-02,\n",
      "          5.6085e-02, -3.4313e-03, -1.0550e-02,  8.1831e-02, -9.3392e-02,\n",
      "          1.0072e-01, -1.0453e-01,  5.1399e-02, -6.6371e-02, -3.4474e-02,\n",
      "         -4.4610e-02,  7.1564e-02,  7.1238e-02,  9.0505e-02,  6.5149e-02,\n",
      "          8.7261e-02, -5.2771e-02, -4.3133e-02, -1.0732e-01, -8.8858e-03,\n",
      "         -1.9793e-02, -6.3318e-02,  1.0962e-03,  1.0880e-01,  4.9249e-02,\n",
      "          4.0176e-02, -5.1823e-02,  9.1386e-02, -5.8936e-02,  7.6406e-02,\n",
      "          3.3010e-02,  5.5027e-02, -6.3189e-02,  5.9815e-02,  7.8953e-02,\n",
      "          2.8279e-02, -1.0382e-01,  1.0498e-01,  1.0724e-01, -1.2273e-01,\n",
      "          9.3784e-02, -1.0080e-01, -1.5693e-02, -3.6064e-02, -1.1277e-01,\n",
      "         -1.5476e-02,  4.0976e-02, -3.6890e-02, -4.4685e-02, -2.5236e-02,\n",
      "         -1.0798e-01, -1.1935e-01, -5.0222e-02,  9.8973e-02],\n",
      "        [-1.2265e-01, -9.1901e-02,  1.7191e-02, -3.1751e-02, -7.6571e-02,\n",
      "         -9.8674e-02,  1.1595e-01, -2.8907e-02,  4.4756e-02,  1.0411e-01,\n",
      "         -5.6339e-02, -6.5904e-02, -3.1597e-02, -1.8910e-03, -7.5938e-02,\n",
      "          5.8496e-02,  1.0518e-01, -1.0197e-01, -3.9990e-02, -3.4354e-02,\n",
      "          8.2503e-02, -7.3222e-02, -7.7110e-02,  1.1543e-01,  1.0629e-01,\n",
      "          7.6056e-02,  4.8938e-02, -6.8965e-02,  8.0578e-02,  4.2863e-02,\n",
      "         -6.5139e-02, -1.0445e-01,  3.0093e-02, -6.2405e-02, -2.0980e-02,\n",
      "         -1.5682e-03,  1.1021e-01, -3.1500e-02,  2.8423e-02, -1.1640e-01,\n",
      "         -3.2252e-02, -1.0832e-01,  4.8985e-03,  5.9316e-02, -2.6768e-02,\n",
      "         -5.0604e-02, -8.7084e-02,  5.3675e-02,  1.4545e-02,  1.2379e-01,\n",
      "         -5.8469e-02,  2.3816e-02,  6.5328e-02,  5.0739e-02,  1.0138e-01,\n",
      "         -1.1388e-01,  1.0968e-01, -1.2482e-01, -4.1346e-02,  4.1827e-02,\n",
      "         -1.1748e-01, -9.2639e-02,  1.3983e-02, -4.7060e-02],\n",
      "        [ 6.5027e-02, -1.2113e-01,  1.2229e-02, -6.8039e-02, -1.3887e-02,\n",
      "         -1.0690e-01,  1.0045e-01,  6.1628e-02, -1.1071e-01, -1.0376e-01,\n",
      "          7.1699e-02, -6.2551e-02,  7.4026e-02, -1.9150e-02,  7.6671e-02,\n",
      "          8.3054e-02,  1.1900e-01,  5.9843e-02, -5.3612e-02,  2.0386e-02,\n",
      "         -7.8456e-02, -1.0141e-01, -2.0907e-02, -5.6041e-02,  1.0688e-01,\n",
      "         -1.0338e-01, -5.0283e-02, -1.1668e-01,  1.7726e-02, -6.3808e-02,\n",
      "         -7.8345e-03,  1.1964e-01, -1.0384e-01,  9.5486e-02,  1.4657e-02,\n",
      "          8.3318e-02,  8.6832e-03, -9.8649e-02,  6.5354e-02, -3.4600e-02,\n",
      "          1.0925e-01, -1.0667e-01,  2.5634e-02,  9.9384e-03,  5.0681e-03,\n",
      "          2.0861e-02, -5.7440e-02,  1.0068e-01,  6.3809e-02,  1.2471e-01,\n",
      "          8.5937e-02,  3.9619e-02,  9.5738e-02,  4.0247e-02,  6.6777e-03,\n",
      "          7.6389e-03, -2.3936e-02,  2.5212e-02, -3.2727e-02, -9.1529e-02,\n",
      "         -7.0383e-02, -9.1035e-02, -5.4447e-02, -1.5211e-02]],\n",
      "       requires_grad=True), Parameter containing:\n",
      "tensor([-0.0298,  0.1182, -0.0804,  0.0283, -0.0280, -0.0733,  0.0121,  0.1116,\n",
      "        -0.1088,  0.0079], requires_grad=True)]\n"
     ]
    }
   ],
   "source": [
    "print(list(model.parameters()))"
   ]
  },
  {
   "cell_type": "code",
   "execution_count": 8,
   "metadata": {},
   "outputs": [
    {
     "name": "stdout",
     "output_type": "stream",
     "text": [
      "Parameter containing:\n",
      "tensor([[-0.0253, -0.0121,  0.0005,  ...,  0.0079, -0.0281,  0.0339],\n",
      "        [ 0.0214,  0.0211, -0.0044,  ...,  0.0058, -0.0267,  0.0037],\n",
      "        [-0.0279,  0.0055,  0.0105,  ..., -0.0151,  0.0203,  0.0088],\n",
      "        ...,\n",
      "        [-0.0199, -0.0340, -0.0026,  ...,  0.0170,  0.0217, -0.0270],\n",
      "        [-0.0207,  0.0254,  0.0324,  ..., -0.0317,  0.0030, -0.0162],\n",
      "        [ 0.0261, -0.0287, -0.0176,  ...,  0.0039,  0.0080, -0.0099]],\n",
      "       requires_grad=True)\n",
      "Parameter containing:\n",
      "tensor([-0.0316,  0.0267,  0.0144,  0.0004,  0.0277,  0.0318, -0.0338, -0.0060,\n",
      "        -0.0329, -0.0194, -0.0025, -0.0127,  0.0094, -0.0351, -0.0095,  0.0012,\n",
      "        -0.0275, -0.0239, -0.0222,  0.0090, -0.0182,  0.0299, -0.0149, -0.0245,\n",
      "        -0.0035, -0.0006, -0.0350,  0.0116, -0.0103, -0.0181,  0.0257, -0.0141,\n",
      "        -0.0165, -0.0144,  0.0345,  0.0088, -0.0134,  0.0198,  0.0215, -0.0251,\n",
      "         0.0251, -0.0057,  0.0033, -0.0226, -0.0263, -0.0305,  0.0240, -0.0278,\n",
      "         0.0343,  0.0267,  0.0208,  0.0152,  0.0185, -0.0280, -0.0254, -0.0008,\n",
      "         0.0310,  0.0101,  0.0207,  0.0312,  0.0195, -0.0352,  0.0069, -0.0035,\n",
      "        -0.0051, -0.0043, -0.0036, -0.0145, -0.0213, -0.0124,  0.0250, -0.0152,\n",
      "        -0.0210, -0.0300, -0.0197, -0.0088,  0.0286, -0.0330, -0.0124, -0.0329,\n",
      "         0.0175,  0.0143,  0.0250, -0.0253, -0.0265, -0.0034,  0.0093, -0.0217,\n",
      "         0.0151, -0.0295, -0.0308,  0.0291,  0.0348,  0.0110, -0.0096,  0.0023,\n",
      "        -0.0342,  0.0348,  0.0198, -0.0230, -0.0277, -0.0168,  0.0140, -0.0163,\n",
      "        -0.0210, -0.0072, -0.0297,  0.0323,  0.0191,  0.0299, -0.0315, -0.0284,\n",
      "         0.0140, -0.0349,  0.0102, -0.0028, -0.0169, -0.0331, -0.0146, -0.0058,\n",
      "        -0.0247, -0.0079, -0.0244, -0.0259, -0.0270,  0.0085,  0.0175, -0.0351],\n",
      "       requires_grad=True)\n"
     ]
    }
   ],
   "source": [
    "print(model.fc1.weight)\n",
    "print(model.fc1.bias)"
   ]
  },
  {
   "cell_type": "markdown",
   "metadata": {},
   "source": [
    "For custom initialization, we want to modify these tensors in place. These are actually autograd *Variables*, so we need to get back the actual tensors with `model.fc1.weight.data`. Once we have the tensors, we can fill them with zeros (for biases) or random normal values."
   ]
  },
  {
   "cell_type": "code",
   "execution_count": 9,
   "metadata": {},
   "outputs": [],
   "source": [
    "# Set biases to all zeros\n",
    "# model.fc1.bias.data.fill_(0)\n",
    "\n",
    "# sample from random normal with standard dev = 0.01\n",
    "# model.fc1.weight.data.normal_(std=0.01)"
   ]
  },
  {
   "cell_type": "markdown",
   "metadata": {},
   "source": [
    "### Forward pass\n",
    "\n",
    "Now that we have a network, let's see what happens when we pass in an image. This is called the forward pass. We're going to convert the image data into a tensor, then pass it through the operations defined by the network architecture."
   ]
  },
  {
   "cell_type": "code",
   "execution_count": 10,
   "metadata": {},
   "outputs": [
    {
     "data": {
      "image/png": "[encoded data removed]",
      "text/plain": [
       "<Figure size 432x648 with 2 Axes>"
      ]
     },
     "metadata": {
      "image/png": {
       "height": 234,
       "width": 424
      },
      "needs_background": "light"
     },
     "output_type": "display_data"
    }
   ],
   "source": [
    "# Grab some data \n",
    "dataiter = iter(trainloader)\n",
    "images, labels = dataiter.next()\n",
    "\n",
    "# Resize images into a 1D vector, new shape is (batch size, color channels, image pixels) \n",
    "images.resize_(64, 1, 784)\n",
    "# or images.resize_(images.shape[0], 1, 784) to not automatically get batch size\n",
    "\n",
    "# Forward pass through the network\n",
    "\n",
    "ps = model.forward(images[0])\n",
    "\n",
    "img = images[0]\n",
    "helper.view_classify(img.view(1, 28, 28), ps)"
   ]
  },
  {
   "cell_type": "markdown",
   "metadata": {},
   "source": [
    "As you can see above, our network has basically no idea what this digit is. It's because we haven't trained it yet, all the weights are random!\n",
    "\n",
    "PyTorch provides a convenient way to build networks like this where a tensor is passed sequentially through operations, `nn.Sequential` ([documentation](https://pytorch.org/docs/master/nn.html#torch.nn.Sequential)). Using this to build the equivalent network:"
   ]
  },
  {
   "cell_type": "code",
   "execution_count": 12,
   "metadata": {},
   "outputs": [
    {
     "name": "stdout",
     "output_type": "stream",
     "text": [
      "Sequential(\n",
      "  (0): Linear(in_features=784, out_features=128, bias=True)\n",
      "  (1): ReLU()\n",
      "  (2): Linear(in_features=128, out_features=64, bias=True)\n",
      "  (3): ReLU()\n",
      "  (4): Linear(in_features=64, out_features=10, bias=True)\n",
      "  (5): Softmax(dim=1)\n",
      ")\n"
     ]
    },
    {
     "data": {
      "image/png": "[encoded data removed]",
      "text/plain": [
       "<Figure size 432x648 with 2 Axes>"
      ]
     },
     "metadata": {
      "image/png": {
       "height": 234,
       "width": 424
      },
      "needs_background": "light"
     },
     "output_type": "display_data"
    }
   ],
   "source": [
    "input_size = 28*28\n",
    "hidden_size = [128, 64]\n",
    "output_size = 10\n",
    "\n",
    "model = nn.Sequential(nn.Linear(input_size, hidden_size[0]),\n",
    "                     nn.ReLU(),\n",
    "                     nn.Linear(hidden_size[0], hidden_size[1]),\n",
    "                     nn.ReLU(),\n",
    "                     nn.Linear(hidden_size[1], output_size),\n",
    "                     nn.Softmax(dim=1))\n",
    "print(model)\n",
    "\n",
    "dataiter = iter(trainloader)\n",
    "images, labels = dataiter.next()\n",
    "\n",
    "images.resize_(64, 1, 784)\n",
    "\n",
    "ps = model.forward(images[0])\n",
    "\n",
    "img = images[0]\n",
    "helper.view_classify(img.view(1, 28, 28), ps)"
   ]
  },
  {
   "cell_type": "markdown",
   "metadata": {},
   "source": [
    "You can also pass in an `OrderedDict` to name the individual layers and operations. Note that a dictionary keys must be unique, so _each operation must have a different name_."
   ]
  },
  {
   "cell_type": "code",
   "execution_count": 14,
   "metadata": {},
   "outputs": [
    {
     "name": "stdout",
     "output_type": "stream",
     "text": [
      "Sequential(\n",
      "  (fc1): Linear(in_features=784, out_features=128, bias=True)\n",
      "  (relu1): ReLU()\n",
      "  (fc2): Linear(in_features=128, out_features=64, bias=True)\n",
      "  (relu2): ReLU()\n",
      "  (fc3): Linear(in_features=64, out_features=10, bias=True)\n",
      "  (output): Softmax(dim=1)\n",
      ")\n"
     ]
    },
    {
     "data": {
      "image/png": "[encoded data removed]",
      "text/plain": [
       "<Figure size 432x648 with 2 Axes>"
      ]
     },
     "metadata": {
      "image/png": {
       "height": 234,
       "width": 424
      },
      "needs_background": "light"
     },
     "output_type": "display_data"
    }
   ],
   "source": [
    "from collections import OrderedDict\n",
    "\n",
    "model = nn.Sequential(OrderedDict([\n",
    "    ('fc1', nn.Linear(input_size, hidden_size[0])),\n",
    "    ('relu1', nn.ReLU()),\n",
    "    ('fc2', nn.Linear(hidden_size[0], hidden_size[1])),\n",
    "    ('relu2', nn.ReLU()),\n",
    "    ('fc3', nn.Linear(hidden_size[1], output_size)),\n",
    "    ('output', nn.Softmax(dim=1))\n",
    "]))\n",
    "\n",
    "print(model)\n",
    "\n",
    "images, labels = next(iter(trainloader))\n",
    "images.resize_(64, 1, 28*28)\n",
    "\n",
    "ps = model.forward(images[0])\n",
    "helper.view_classify(images[0].view(1,28,28), ps)"
   ]
  },
  {
   "cell_type": "markdown",
   "metadata": {},
   "source": [
    "Build a network to classify the MNIST images with _three_ hidden layers. Use 400 units in the first hidden layer, 200 units in the second layer, and 100 units in the third layer. Each hidden layer should have a ReLU activation function, and use softmax on the output layer. "
   ]
  },
  {
   "cell_type": "code",
   "execution_count": null,
   "metadata": {},
   "outputs": [],
   "source": []
  }
 ],
 "metadata": {
  "hide_input": false,
  "kernelspec": {
   "display_name": "Python 3",
   "language": "python",
   "name": "python3"
  },
  "language_info": {
   "codemirror_mode": {
    "name": "ipython",
    "version": 3
   },
   "file_extension": ".py",
   "mimetype": "text/x-python",
   "name": "python",
   "nbconvert_exporter": "python",
   "pygments_lexer": "ipython3",
   "version": "3.8.3"
  }
 },
 "nbformat": 4,
 "nbformat_minor": 4
}
